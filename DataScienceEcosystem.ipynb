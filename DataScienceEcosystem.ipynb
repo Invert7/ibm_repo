{
 "cells": [
  {
   "cell_type": "markdown",
   "id": "a7dc480e",
   "metadata": {
    "tags": []
   },
   "source": [
    "# Data Science Tools and Ecosystem"
   ]
  },
  {
   "cell_type": "markdown",
   "id": "9a6783f1-fa3f-4c44-8c8b-c949b6aab542",
   "metadata": {
    "tags": []
   },
   "source": [
    "In this notebook, Data Science Tools and Ecosystem are summarized"
   ]
  },
  {
   "cell_type": "markdown",
   "id": "8dc5baed-3d82-4586-816f-fa34df68b89c",
   "metadata": {},
   "source": [
    "**Objectives:**\n",
    "- The popular languages are Python, R, SQL, Scla, Java, C++ and Julia\n",
    "- Git is an essential code asset management tool\n",
    "- You should select a language to learn depending on your needs and problems you are trying to solve"
   ]
  },
  {
   "cell_type": "markdown",
   "id": "d444e1b5-14c9-4218-926c-46781d2464c4",
   "metadata": {},
   "source": [
    "Some of the popular languages that Data Scientists use are:\n",
    "1. Python\n",
    "2. R\n",
    "3. Julia"
   ]
  },
  {
   "cell_type": "markdown",
   "id": "6750edff-102d-4b63-abd6-98c53b57e12d",
   "metadata": {},
   "source": [
    "Some of the commonly used libraries used by Data Scientists include:\n",
    "1. Numpy\n",
    "2. Pandas\n",
    "3. Keras"
   ]
  },
  {
   "cell_type": "markdown",
   "id": "8d9e469f-bc0d-45f5-abef-20138bcd0af0",
   "metadata": {
    "tags": []
   },
   "source": [
    "| Data Science Tools |\n",
    "|:---:|\n",
    "|JupyterLab|\n",
    "|Spyder|\n",
    "|VScode|"
   ]
  },
  {
   "cell_type": "markdown",
   "id": "18668771-8889-4a5a-835b-dcacc4d771d7",
   "metadata": {},
   "source": [
    "### Below are a few examples of evaluating arithmetic expressions in Python"
   ]
  },
  {
   "cell_type": "code",
   "execution_count": 3,
   "id": "5091d319-3af9-491b-8424-e6b84eaf7459",
   "metadata": {
    "tags": []
   },
   "outputs": [
    {
     "data": {
      "text/plain": [
       "17"
      ]
     },
     "execution_count": 3,
     "metadata": {},
     "output_type": "execute_result"
    }
   ],
   "source": [
    "#This is a simple arithmetic expressiohn to mutiply then add intergers\n",
    "(3*4)+5"
   ]
  },
  {
   "cell_type": "code",
   "execution_count": 4,
   "id": "bffb83d5-23c6-4a1f-9912-e67f056ca666",
   "metadata": {
    "tags": []
   },
   "outputs": [
    {
     "data": {
      "text/plain": [
       "3.3333333333333335"
      ]
     },
     "execution_count": 4,
     "metadata": {},
     "output_type": "execute_result"
    }
   ],
   "source": [
    "#This will convert 200 minutes to hours by diving by 60\n",
    "200/60"
   ]
  },
  {
   "cell_type": "markdown",
   "id": "259be33c-86a7-45d2-9b58-6bd46484bac8",
   "metadata": {
    "tags": []
   },
   "source": [
    "## Author"
   ]
  },
  {
   "cell_type": "markdown",
   "id": "6f7e401f-9049-4d44-bc82-6ab8a034ccf8",
   "metadata": {
    "tags": []
   },
   "source": [
    "Nicholaus Helwig"
   ]
  }
 ],
 "metadata": {
  "kernelspec": {
   "display_name": "Python 3 (ipykernel)",
   "language": "python",
   "name": "python3"
  },
  "language_info": {
   "codemirror_mode": {
    "name": "ipython",
    "version": 3
   },
   "file_extension": ".py",
   "mimetype": "text/x-python",
   "name": "python",
   "nbconvert_exporter": "python",
   "pygments_lexer": "ipython3",
   "version": "3.11.4"
  }
 },
 "nbformat": 4,
 "nbformat_minor": 5
}
